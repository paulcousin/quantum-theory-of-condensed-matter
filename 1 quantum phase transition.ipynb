{
 "cells": [
  {
   "cell_type": "markdown",
   "id": "575bc640",
   "metadata": {},
   "source": [
    "# Exact Diagonalisation of Spin Hamiltonians\n",
    "https://quspin.github.io/QuSpin/examples/example0.html#example0-label"
   ]
  },
  {
   "cell_type": "code",
   "execution_count": 3,
   "id": "a1cfb4e5",
   "metadata": {},
   "outputs": [
    {
     "name": "stdout",
     "output_type": "stream",
     "text": [
      "Hermiticity check passed!\n",
      "Symmetry checks passed!\n",
      "Particle conservation check passed!\n"
     ]
    },
    {
     "data": {
      "text/plain": [
       "array([-0.00077629])"
      ]
     },
     "execution_count": 3,
     "metadata": {},
     "output_type": "execute_result"
    }
   ],
   "source": [
    "#####################################################################\n",
    "#                            example 0                              #\n",
    "#    In this script we demonstrate how to use QuSpin's exact        #\n",
    "#    diagonlization routines to solve for the eigenstates and       #\n",
    "#    energies of the XXZ chain.                                     #\n",
    "#####################################################################\n",
    "from quspin.operators import hamiltonian  # Hamiltonians and operators\n",
    "from quspin.basis import spin_basis_1d  # Hilbert space spin basis\n",
    "import numpy as np  # generic math functions\n",
    "\n",
    "#\n",
    "##### define model parameters #####\n",
    "L = 12  # system size\n",
    "Jxy = np.sqrt(2.0)  # xy interaction\n",
    "Jzz_0 = 1.0  # zz interaction\n",
    "hz = 0.0 / np.sqrt(3.0)  # z external field\n",
    "#\n",
    "##### set up Heisenberg Hamiltonian in an external z-field #####\n",
    "# compute spin-1/2 basis\n",
    "# basis = spin_basis_1d(L,pauli=False)\n",
    "# basis = spin_basis_1d(L,pauli=False,Nup=L//2) # zero magnetisation sector\n",
    "basis = spin_basis_1d(\n",
    "    L, pauli=False, Nup=L // 2, pblock=1\n",
    ")  # and positive parity sector\n",
    "# define operators with OBC using site-coupling lists\n",
    "J_zz = [[Jzz_0, i, i + 1] for i in range(L - 1)]  # OBC\n",
    "J_xy = [[Jxy / 2.0, i, i + 1] for i in range(L - 1)]  # OBC\n",
    "h_z = [[hz, i] for i in range(L)]\n",
    "# static and dynamic lists\n",
    "static = [[\"+-\", J_xy], [\"-+\", J_xy], [\"zz\", J_zz], [\"z\", h_z]]\n",
    "dynamic = []\n",
    "# compute the time-dependent Heisenberg Hamiltonian\n",
    "H_XXZ = hamiltonian(static, dynamic, basis=basis, dtype=np.float64)\n",
    "#\n",
    "##### various exact diagonalisation routines #####\n",
    "# calculate entire spectrum only\n",
    "E = H_XXZ.eigvalsh()\n",
    "# calculate full eigensystem\n",
    "E, V = H_XXZ.eigh()\n",
    "# calculate minimum and maximum energy only\n",
    "Emin, Emax = H_XXZ.eigsh(k=2, which=\"BE\", maxiter=1e4, return_eigenvectors=False)\n",
    "# calculate the eigenstate closest to energy E_star\n",
    "E_star = 0.0\n",
    "E, psi_0 = H_XXZ.eigsh(k=1, sigma=E_star, maxiter=1e4)\n",
    "psi_0 = psi_0.reshape((-1,))\n",
    "\n",
    "E"
   ]
  },
  {
   "cell_type": "code",
   "execution_count": null,
   "id": "b365e305",
   "metadata": {},
   "outputs": [],
   "source": []
  }
 ],
 "metadata": {
  "kernelspec": {
   "display_name": ".venv",
   "language": "python",
   "name": "python3"
  },
  "language_info": {
   "codemirror_mode": {
    "name": "ipython",
    "version": 3
   },
   "file_extension": ".py",
   "mimetype": "text/x-python",
   "name": "python",
   "nbconvert_exporter": "python",
   "pygments_lexer": "ipython3",
   "version": "3.12.7"
  }
 },
 "nbformat": 4,
 "nbformat_minor": 5
}
