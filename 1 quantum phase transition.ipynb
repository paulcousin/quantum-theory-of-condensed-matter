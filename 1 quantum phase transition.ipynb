{
 "cells": [
  {
   "cell_type": "markdown",
   "id": "575bc640",
   "metadata": {},
   "source": [
    "# Exact Diagonalisation of Spin Hamiltonians\n",
    "https://quspin.github.io/QuSpin/examples/example0.html#example0-label"
   ]
  },
  {
   "cell_type": "code",
   "execution_count": 2,
   "id": "56de7cca",
   "metadata": {},
   "outputs": [],
   "source": [
    "from quspin.operators import hamiltonian  # Hamiltonians and operators\n",
    "from quspin.basis import spin_basis_1d  # Hilbert space spin basis\n",
    "import numpy as np  # generic math functions\n",
    "import matplotlib.pyplot as plt # matplotlib"
   ]
  },
  {
   "cell_type": "code",
   "execution_count": 4,
   "id": "a1cfb4e5",
   "metadata": {},
   "outputs": [],
   "source": [
    "def energy( L , mag, J ) :\n",
    "    #\n",
    "    ##### define model parameters #####\n",
    "    Jxy = 1.0  # xy interaction\n",
    "    Jzz_0 = J  # zz interaction\n",
    "    hz = 0.0  # z external field\n",
    "    #\n",
    "    ##### set up Heisenberg Hamiltonian in an external z-field #####\n",
    "    # compute spin-1/2 basis\n",
    "    # basis = spin_basis_1d(L,pauli=False)\n",
    "    # basis = spin_basis_1d(L,pauli=False,Nup=L//2) # zero magnetisation sector\n",
    "    basis = spin_basis_1d(\n",
    "        L, pauli=False, Nup=mag+L//2, pblock=1 # Nup is the number of spin up\n",
    "    )  # and positive parity sector\n",
    "    # define operators with OBC using site-coupling lists\n",
    "    J_zz = [[Jzz_0, i, i + 1] for i in range(L - 1)]  # OBC\n",
    "    J_xy = [[Jxy / 2.0, i, i + 1] for i in range(L - 1)]  # OBC\n",
    "    h_z = [[hz, i] for i in range(L)]\n",
    "    # static and dynamic lists\n",
    "    static = [[\"+-\", J_xy], [\"-+\", J_xy], [\"zz\", J_zz], [\"z\", h_z]]\n",
    "    dynamic = []\n",
    "    # compute the time-dependent Heisenberg Hamiltonian\n",
    "    H_XXZ = hamiltonian(static, dynamic, basis=basis, dtype=np.float64, check_symm=False, check_herm=False, check_pcon=False)\n",
    "    #\n",
    "    ##### various exact diagonalisation routines #####\n",
    "    # calculate entire spectrum only\n",
    "    E = H_XXZ.eigvalsh()\n",
    "    # calculate full eigensystem\n",
    "    E, V = H_XXZ.eigh()\n",
    "    # calculate minimum and maximum energy only\n",
    "    Emin, Emax = H_XXZ.eigsh(k=2, which=\"BE\", maxiter=1e4, return_eigenvectors=False)\n",
    "    # calculate the eigenstate closest to energy E_star\n",
    "    E_star = 0.0\n",
    "    E, psi_0 = H_XXZ.eigsh(k=1, sigma=E_star, maxiter=1e4)\n",
    "    psi_0 = psi_0.reshape((-1,))\n",
    "\n",
    "    return Emin"
   ]
  },
  {
   "cell_type": "code",
   "execution_count": 5,
   "id": "75f9286b",
   "metadata": {},
   "outputs": [],
   "source": [
    "def energy_gap(L,J):\n",
    "    return energy(L,1,J) - energy(L,0,J)"
   ]
  },
  {
   "cell_type": "code",
   "execution_count": 6,
   "id": "5560eb18",
   "metadata": {},
   "outputs": [
    {
     "data": {
      "text/plain": [
       "np.float64(0.6287996825623603)"
      ]
     },
     "execution_count": 6,
     "metadata": {},
     "output_type": "execute_result"
    }
   ],
   "source": [
    "energy_gap(12,1)"
   ]
  },
  {
   "cell_type": "code",
   "execution_count": 7,
   "id": "1765d61e",
   "metadata": {},
   "outputs": [],
   "source": [
    "values = np.array(\n",
    "    [ [ [ 1/x , y , energy_gap(x,y) ] for x in range(8,16+1,4)] for y in range(1,10+1,1) ] \n",
    "    )"
   ]
  },
  {
   "cell_type": "code",
   "execution_count": 8,
   "id": "3e08ed83",
   "metadata": {},
   "outputs": [
    {
     "data": {
      "text/plain": [
       "array([[[ 0.125     ,  1.        ,  0.87120353],\n",
       "        [ 0.08333333,  1.        ,  0.62879968],\n",
       "        [ 0.0625    ,  1.        ,  0.49081927]],\n",
       "\n",
       "       [[ 0.125     ,  2.        ,  1.22649436],\n",
       "        [ 0.08333333,  2.        ,  0.9017846 ],\n",
       "        [ 0.0625    ,  2.        ,  0.71595571]],\n",
       "\n",
       "       [[ 0.125     ,  3.        ,  1.58438925],\n",
       "        [ 0.08333333,  3.        ,  1.21989992],\n",
       "        [ 0.0625    ,  3.        ,  1.02623356]],\n",
       "\n",
       "       [[ 0.125     ,  4.        ,  1.98348567],\n",
       "        [ 0.08333333,  4.        ,  1.61838875],\n",
       "        [ 0.0625    ,  4.        ,  1.43575273]],\n",
       "\n",
       "       [[ 0.125     ,  5.        ,  2.418615  ],\n",
       "        [ 0.08333333,  5.        ,  2.0615861 ],\n",
       "        [ 0.0625    ,  5.        ,  1.88733347]],\n",
       "\n",
       "       [[ 0.125     ,  6.        ,  2.87587382],\n",
       "        [ 0.08333333,  6.        ,  2.52620502],\n",
       "        [ 0.0625    ,  6.        ,  2.35744253]],\n",
       "\n",
       "       [[ 0.125     ,  7.        ,  3.34623963],\n",
       "        [ 0.08333333,  7.        ,  3.00214887],\n",
       "        [ 0.0625    ,  7.        ,  2.83719699]],\n",
       "\n",
       "       [[ 0.125     ,  8.        ,  3.82467664],\n",
       "        [ 0.08333333,  8.        ,  3.48473936],\n",
       "        [ 0.0625    ,  8.        ,  3.32259869]],\n",
       "\n",
       "       [[ 0.125     ,  9.        ,  4.30834432],\n",
       "        [ 0.08333333,  9.        ,  3.97155662],\n",
       "        [ 0.0625    ,  9.        ,  3.81158609]],\n",
       "\n",
       "       [[ 0.125     , 10.        ,  4.7955662 ],\n",
       "        [ 0.08333333, 10.        ,  4.4612283 ],\n",
       "        [ 0.0625    , 10.        ,  4.30298927]]])"
      ]
     },
     "execution_count": 8,
     "metadata": {},
     "output_type": "execute_result"
    }
   ],
   "source": [
    "values"
   ]
  },
  {
   "cell_type": "code",
   "execution_count": 67,
   "id": "5cb76c50",
   "metadata": {},
   "outputs": [
    {
     "data": {
      "image/png": "[encoded data removed]",
      "text/plain": [
       "<Figure size 640x480 with 1 Axes>"
      ]
     },
     "metadata": {},
     "output_type": "display_data"
    }
   ],
   "source": [
    "plt.plot(values[:,0],values[:,1], 'ro')\n",
    "plt.show()"
   ]
  },
  {
   "cell_type": "markdown",
   "id": "9cff175f",
   "metadata": {},
   "source": [
    "Do a fit f(x)=a+xb+x^2c and plot the gap at the thermodynamic limit (x=0) as a function of J."
   ]
  },
  {
   "cell_type": "code",
   "execution_count": 68,
   "id": "3ff48a0d",
   "metadata": {},
   "outputs": [
    {
     "data": {
      "text/plain": [
       "array([[0.125     , 0.87120353],\n",
       "       [0.08333333, 0.62879968],\n",
       "       [0.0625    , 0.49081927]])"
      ]
     },
     "execution_count": 68,
     "metadata": {},
     "output_type": "execute_result"
    }
   ],
   "source": [
    "values"
   ]
  },
  {
   "cell_type": "code",
   "execution_count": null,
   "id": "21a595e3",
   "metadata": {},
   "outputs": [],
   "source": []
  }
 ],
 "metadata": {
  "kernelspec": {
   "display_name": ".venv",
   "language": "python",
   "name": "python3"
  },
  "language_info": {
   "codemirror_mode": {
    "name": "ipython",
    "version": 3
   },
   "file_extension": ".py",
   "mimetype": "text/x-python",
   "name": "python",
   "nbconvert_exporter": "python",
   "pygments_lexer": "ipython3",
   "version": "3.12.7"
  }
 },
 "nbformat": 4,
 "nbformat_minor": 5
}
