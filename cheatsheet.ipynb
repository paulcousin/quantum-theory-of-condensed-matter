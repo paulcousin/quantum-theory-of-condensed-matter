{
 "cells": [
  {
   "cell_type": "markdown",
   "id": "bd06c5ae",
   "metadata": {},
   "source": [
    "# Venv\n",
    "### Setting up venv\n",
    "```\n",
    "python3.12 -m venv .venv\n",
    "```\n",
    "### Activating the virtual environment\n",
    "```\n",
    "source .venv/bin/activate\n",
    "```\n",
    "### Deactivating the virtual environment\n",
    "```\n",
    "deactivate\n",
    "```\n",
    "\n",
    "# QuSpin\n",
    "### Documentation\n",
    "https://quspin.github.io/QuSpin/\n",
    "### Installation\n",
    "```\n",
    "pip install quspin\n",
    "```"
   ]
  }
 ],
 "metadata": {
  "language_info": {
   "name": "python"
  }
 },
 "nbformat": 4,
 "nbformat_minor": 5
}
