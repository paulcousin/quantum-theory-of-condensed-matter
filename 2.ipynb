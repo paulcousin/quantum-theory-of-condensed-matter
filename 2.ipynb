{
 "cells": [
  {
   "cell_type": "markdown",
   "id": "b8cfc91b",
   "metadata": {},
   "source": [
    "# The Bose-Hubbard Model\n",
    "https://quspin.github.io/QuSpin/examples/example7.html#example7-label"
   ]
  }
 ],
 "metadata": {
  "language_info": {
   "name": "python"
  }
 },
 "nbformat": 4,
 "nbformat_minor": 5
}
