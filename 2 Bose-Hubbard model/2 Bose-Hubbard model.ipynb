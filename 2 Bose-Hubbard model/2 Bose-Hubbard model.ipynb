{
 "cells": [
  {
   "cell_type": "markdown",
   "id": "b8cfc91b",
   "metadata": {},
   "source": [
    "# Bose-Hubbard model in 1d\n",
    "https://quspin.github.io/QuSpin/examples/user-basis_example2.html#user-basis-example2-label"
   ]
  },
  {
   "cell_type": "code",
   "execution_count": 36,
   "id": "0905031c",
   "metadata": {},
   "outputs": [],
   "source": [
    "#\n",
    "import sys, os\n",
    "\n",
    "os.environ[\"KMP_DUPLICATE_LIB_OK\"] = (\n",
    "    \"True\"  # uncomment this line if omp error occurs on OSX for python 3\n",
    ")\n",
    "os.environ[\"OMP_NUM_THREADS\"] = \"1\"  # set number of OpenMP threads to run in parallel\n",
    "os.environ[\"MKL_NUM_THREADS\"] = \"1\"  # set number of MKL threads to run in parallel\n",
    "#\n",
    "\n",
    "#\n",
    "from quspin.operators import hamiltonian  # Hamiltonians and operators\n",
    "from quspin.basis import boson_basis_1d  # Hilbert space spin basis_1d\n",
    "from quspin.basis.user import user_basis  # Hilbert space user basis\n",
    "from quspin.basis.user import (\n",
    "    next_state_sig_32,\n",
    "    op_sig_32,\n",
    "    map_sig_32,\n",
    "    count_particles_sig_32,\n",
    ")  # user basis data types signatures\n",
    "from numba import carray, cfunc  # numba helper functions\n",
    "from numba import uint32, int32, float64  # numba data types\n",
    "import numpy as np\n",
    "from scipy.special import comb\n",
    "\n",
    "import matplotlib.pyplot as plt # matplotlib"
   ]
  },
  {
   "cell_type": "code",
   "execution_count": 39,
   "id": "3b447195",
   "metadata": {},
   "outputs": [],
   "source": [
    "def mathematica_export(name,array):\n",
    "    f = open(name+\".wl\", \"w\")\n",
    "    f.write(str(array).replace('[', '{').replace(']', '}'))\n",
    "    f.close()"
   ]
  },
  {
   "cell_type": "code",
   "execution_count": 27,
   "id": "9a2aefa5",
   "metadata": {},
   "outputs": [],
   "source": [
    "def energy(N,Np,U):\n",
    "    # N : lattice sites\n",
    "    # Np: total number of bosons\n",
    "    sps = 4  # states per site\n",
    "    #\n",
    "    ############   create same boson basis_1d object   #############\n",
    "    basis_1d = boson_basis_1d(N, Nb=Np, sps=sps, kblock=0, pblock=1)\n",
    "    #\n",
    "    ############   create Hamiltonians   #############\n",
    "    #\n",
    "    J = -1.0\n",
    "    # U = +1.0\n",
    "    #\n",
    "    hopping = [[+J, j, (j + 1) % N] for j in range(N)]\n",
    "    int_bb = [[0.5 * U, j, j] for j in range(N)]\n",
    "    int_b = [[-0.5 * U, j] for j in range(N)]\n",
    "    #\n",
    "    static = [[\"+-\", hopping], [\"-+\", hopping], [\"nn\", int_bb], [\"n\", int_b]]\n",
    "    dynamic = []\n",
    "    #\n",
    "    no_checks = dict(check_symm=False, check_pcon=False, check_herm=False)\n",
    "    H_1d = hamiltonian(static, [], basis=basis_1d, dtype=np.float64, **no_checks)\n",
    "\n",
    "    Emin, Emax = H_1d.eigsh(k=2, which=\"BE\", maxiter=1e4, return_eigenvectors=False)\n",
    "\n",
    "    return Emin\n",
    "\n",
    "def gap1(N,U):\n",
    "    return energy(N,N+1,U) + energy(N,N-1,U) - 2*energy(N,N,U)"
   ]
  },
  {
   "cell_type": "code",
   "execution_count": 28,
   "id": "6912e461",
   "metadata": {},
   "outputs": [],
   "source": [
    "def gap2(N,U): \n",
    "    #\n",
    "    # N : lattice sites\n",
    "    sps = 4  # states per site\n",
    "    Np = N  # total number of bosons\n",
    "    #\n",
    "    ############   create same boson basis_1d object   #############\n",
    "    basis_1d = boson_basis_1d(N, Nb=Np, sps=sps, kblock=0, pblock=1)\n",
    "    #\n",
    "    ############   create Hamiltonians   #############\n",
    "    #\n",
    "    J = -1.0\n",
    "    # U = +1.0\n",
    "    #\n",
    "    hopping = [[+J, j, (j + 1) % N] for j in range(N)]\n",
    "    int_bb = [[0.5 * U, j, j] for j in range(N)]\n",
    "    int_b = [[-0.5 * U, j] for j in range(N)]\n",
    "    #\n",
    "    static = [[\"+-\", hopping], [\"-+\", hopping], [\"nn\", int_bb], [\"n\", int_b]]\n",
    "    dynamic = []\n",
    "    #\n",
    "    no_checks = dict(check_symm=False, check_pcon=False, check_herm=False)\n",
    "    H_1d = hamiltonian(static, [], basis=basis_1d, dtype=np.float64, **no_checks)\n",
    "\n",
    "    eigvalsh = H_1d.eigvalsh()\n",
    "\n",
    "    return eigvalsh[1]-eigvalsh[0]"
   ]
  },
  {
   "cell_type": "code",
   "execution_count": 49,
   "id": "55c85039",
   "metadata": {},
   "outputs": [],
   "source": [
    "gaps1 = [ [ [ l , u , float(gap1(l,u)) ] for u in [ 1. , 1.5 , 2. , 2.5 , 3. , 3.5 , 4. , 4.5 , 5 ] ] for l in range(4,12,1) ]\n",
    "\n",
    "mathematica_export(\"gaps1\",gaps1)"
   ]
  },
  {
   "cell_type": "code",
   "execution_count": 50,
   "id": "06baec05",
   "metadata": {},
   "outputs": [],
   "source": [
    "gaps2 = [ [ [ l , u , float(gap2(l,u)) ] for u in [ 1. , 1.5 , 2. , 2.5 , 3. , 3.5 , 4. , 4.5 , 5 ] ] for l in range(4,12,1) ]\n",
    "\n",
    "mathematica_export(\"gaps2\",gaps2)"
   ]
  },
  {
   "cell_type": "code",
   "execution_count": 37,
   "id": "138985b9",
   "metadata": {},
   "outputs": [
    {
     "data": {
      "image/png": "[encoded data removed]",
      "text/plain": [
       "<Figure size 640x480 with 1 Axes>"
      ]
     },
     "metadata": {},
     "output_type": "display_data"
    }
   ],
   "source": [
    "plt.plot(gaps1[:,0],gaps1[:,1], 'ro')\n",
    "plt.show()"
   ]
  },
  {
   "cell_type": "code",
   "execution_count": 38,
   "id": "b2df0ea9",
   "metadata": {},
   "outputs": [
    {
     "data": {
      "image/png": "[encoded data removed]",
      "text/plain": [
       "<Figure size 640x480 with 1 Axes>"
      ]
     },
     "metadata": {},
     "output_type": "display_data"
    }
   ],
   "source": [
    "plt.plot(gaps2[:,0],gaps2[:,1], 'ro')\n",
    "plt.show()"
   ]
  },
  {
   "cell_type": "code",
   "execution_count": null,
   "id": "7607b04c",
   "metadata": {},
   "outputs": [],
   "source": []
  }
 ],
 "metadata": {
  "kernelspec": {
   "display_name": ".venv",
   "language": "python",
   "name": "python3"
  },
  "language_info": {
   "codemirror_mode": {
    "name": "ipython",
    "version": 3
   },
   "file_extension": ".py",
   "mimetype": "text/x-python",
   "name": "python",
   "nbconvert_exporter": "python",
   "pygments_lexer": "ipython3",
   "version": "3.12.7"
  }
 },
 "nbformat": 4,
 "nbformat_minor": 5
}
