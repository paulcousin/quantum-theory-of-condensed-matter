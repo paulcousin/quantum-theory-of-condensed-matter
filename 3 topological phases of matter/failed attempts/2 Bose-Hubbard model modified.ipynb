{
 "cells": [
  {
   "cell_type": "markdown",
   "id": "b8cfc91b",
   "metadata": {},
   "source": [
    "# Bose-Hubbard model in 1d\n",
    "https://quspin.github.io/QuSpin/examples/user-basis_example2.html#user-basis-example2-label"
   ]
  },
  {
   "cell_type": "code",
   "execution_count": 3,
   "id": "0905031c",
   "metadata": {},
   "outputs": [],
   "source": [
    "#\n",
    "import sys, os\n",
    "\n",
    "os.environ[\"KMP_DUPLICATE_LIB_OK\"] = (\n",
    "    \"True\"  # uncomment this line if omp error occurs on OSX for python 3\n",
    ")\n",
    "os.environ[\"OMP_NUM_THREADS\"] = \"1\"  # set number of OpenMP threads to run in parallel\n",
    "os.environ[\"MKL_NUM_THREADS\"] = \"1\"  # set number of MKL threads to run in parallel\n",
    "#\n",
    "\n",
    "#\n",
    "from quspin.operators import hamiltonian  # Hamiltonians and operators\n",
    "from quspin.basis import boson_basis_1d  # Hilbert space spin basis_1d\n",
    "from quspin.basis.user import user_basis  # Hilbert space user basis\n",
    "from quspin.basis.user import (\n",
    "    next_state_sig_32,\n",
    "    op_sig_32,\n",
    "    map_sig_32,\n",
    "    count_particles_sig_32,\n",
    ")  # user basis data types signatures\n",
    "from numba import carray, cfunc  # numba helper functions\n",
    "from numba import uint32, int32, float64  # numba data types\n",
    "import numpy as np\n",
    "from scipy.special import comb\n",
    "\n",
    "import matplotlib.pyplot as plt # matplotlib"
   ]
  },
  {
   "cell_type": "code",
   "execution_count": 4,
   "id": "26806fca",
   "metadata": {},
   "outputs": [],
   "source": [
    "from quspin.operators import hamiltonian, exp_op  # Hamiltonians and operators\n",
    "from quspin.basis import spinless_fermion_basis_1d  # Hilbert space fermion basis\n",
    "from quspin.tools.block_tools import block_diag_hamiltonian  # block diagonalisation\n",
    "import numpy as np  # generic math functions\n",
    "import matplotlib.pyplot as plt  # plotting library\n",
    "\n",
    "try:  # import python 3 zip function in python 2 and pass if already using python 3\n",
    "    import itertools.izip as zip\n",
    "except ImportError:\n",
    "    pass\n",
    "\n",
    "from quspin.basis import boson_basis_1d  # Hilbert space spin basis_1d"
   ]
  },
  {
   "cell_type": "code",
   "execution_count": null,
   "id": "3b447195",
   "metadata": {},
   "outputs": [],
   "source": [
    "def mathematica_export(name,array):\n",
    "    f = open(name+\".wl\", \"w\")\n",
    "    f.write(str(array).replace('[', '{').replace(']', '}'))\n",
    "    f.close()"
   ]
  },
  {
   "cell_type": "code",
   "execution_count": 6,
   "id": "9a2aefa5",
   "metadata": {},
   "outputs": [],
   "source": [
    "def energy(N,Np,U):\n",
    "    # N : lattice sites\n",
    "    # Np: total number of bosons\n",
    "    J = 1.0  # uniform hopping\n",
    "    deltaJ = -0.1  # bond dimerisation\n",
    "    sps = 2  # states per site\n",
    "    #\n",
    "    ############   create same boson basis_1d object   #############\n",
    "    basis_1d = boson_basis_1d(N, Nb=Np, sps=sps, kblock=0, pblock=1)\n",
    "    #\n",
    "    ############   create Hamiltonians   #############\n",
    "    #\n",
    "    J = -1.0\n",
    "    # U = +1.0\n",
    "    #\n",
    "    hopping = [[-J - deltaJ * (-1) ** i, i, (i + 1) % N] for i in range(N)]\n",
    "    int_bb = [[0.5 * U, j, j] for j in range(N)]\n",
    "    int_b = [[-0.5 * U, j] for j in range(N)]\n",
    "    #\n",
    "    static = [[\"-+\", hopping], [\"-+\", hopping], [\"nn\", int_bb], [\"n\", int_b]]\n",
    "    dynamic = []\n",
    "    #\n",
    "    no_checks = dict(check_symm=False, check_pcon=False, check_herm=False)\n",
    "    H_1d = hamiltonian(static, [], basis=basis_1d, dtype=np.float64, **no_checks)\n",
    "    \n",
    "    # construct operator n_1 = $n_{j=0}$\n",
    "    n_1_static = [[\"n\", [[1.0, 0]]]]\n",
    "    n_1 = hamiltonian(\n",
    "        n_1_static, [], basis=basis_1d, dtype=np.float64, check_herm=False, check_pcon=False\n",
    "    )\n",
    "    # construct operator n_2 = $n_{j=L/2}$\n",
    "    n_2_static = [[\"n\", [[1.0, N // 2]]]]\n",
    "    n_2 = hamiltonian(\n",
    "        n_2_static, [], basis=basis_1d, dtype=np.float64, check_herm=False, check_pcon=False\n",
    "    )\n",
    "\n",
    "    E, V = H_1d.eigh()\n",
    "    \n",
    "    Emin, Emax = H_1d.eigsh(k=2, which=\"BE\", maxiter=1e4, return_eigenvectors=False)\n",
    "\n",
    "    return Emin # n_1.expt_value(V)"
   ]
  },
  {
   "cell_type": "code",
   "execution_count": 7,
   "id": "d3b4ad74",
   "metadata": {},
   "outputs": [
    {
     "name": "stderr",
     "output_type": "stream",
     "text": [
      "/var/folders/lg/kgsspcl94s11sjhvr12rf2tm0000gn/T/ipykernel_56227/3239471982.py:1: UserWarning: The following static operator strings do not obey T symm: ['n']\n",
      "  energy(10,2,1.)\n"
     ]
    },
    {
     "ename": "TypeError",
     "evalue": "Hamiltonian does not obey T symm! To turn off check, use check_symm=False in hamiltonian.",
     "output_type": "error",
     "traceback": [
      "\u001b[31m---------------------------------------------------------------------------\u001b[39m",
      "\u001b[31mTypeError\u001b[39m                                 Traceback (most recent call last)",
      "\u001b[36mCell\u001b[39m\u001b[36m \u001b[39m\u001b[32mIn[7]\u001b[39m\u001b[32m, line 1\u001b[39m\n\u001b[32m----> \u001b[39m\u001b[32m1\u001b[39m \u001b[43menergy\u001b[49m\u001b[43m(\u001b[49m\u001b[32;43m10\u001b[39;49m\u001b[43m,\u001b[49m\u001b[32;43m2\u001b[39;49m\u001b[43m,\u001b[49m\u001b[32;43m1.\u001b[39;49m\u001b[43m)\u001b[49m\n",
      "\u001b[36mCell\u001b[39m\u001b[36m \u001b[39m\u001b[32mIn[6]\u001b[39m\u001b[32m, line 28\u001b[39m, in \u001b[36menergy\u001b[39m\u001b[34m(N, Np, U)\u001b[39m\n\u001b[32m     26\u001b[39m \u001b[38;5;66;03m# construct operator n_1 = $n_{j=0}$\u001b[39;00m\n\u001b[32m     27\u001b[39m n_1_static = [[\u001b[33m\"\u001b[39m\u001b[33mn\u001b[39m\u001b[33m\"\u001b[39m, [[\u001b[32m1.0\u001b[39m, \u001b[32m0\u001b[39m]]]]\n\u001b[32m---> \u001b[39m\u001b[32m28\u001b[39m n_1 = \u001b[43mhamiltonian\u001b[49m\u001b[43m(\u001b[49m\n\u001b[32m     29\u001b[39m \u001b[43m    \u001b[49m\u001b[43mn_1_static\u001b[49m\u001b[43m,\u001b[49m\u001b[43m \u001b[49m\u001b[43m[\u001b[49m\u001b[43m]\u001b[49m\u001b[43m,\u001b[49m\u001b[43m \u001b[49m\u001b[43mbasis\u001b[49m\u001b[43m=\u001b[49m\u001b[43mbasis_1d\u001b[49m\u001b[43m,\u001b[49m\u001b[43m \u001b[49m\u001b[43mdtype\u001b[49m\u001b[43m=\u001b[49m\u001b[43mnp\u001b[49m\u001b[43m.\u001b[49m\u001b[43mfloat64\u001b[49m\u001b[43m,\u001b[49m\u001b[43m \u001b[49m\u001b[43mcheck_herm\u001b[49m\u001b[43m=\u001b[49m\u001b[38;5;28;43;01mFalse\u001b[39;49;00m\u001b[43m,\u001b[49m\u001b[43m \u001b[49m\u001b[43mcheck_pcon\u001b[49m\u001b[43m=\u001b[49m\u001b[38;5;28;43;01mFalse\u001b[39;49;00m\n\u001b[32m     30\u001b[39m \u001b[43m\u001b[49m\u001b[43m)\u001b[49m\n\u001b[32m     31\u001b[39m \u001b[38;5;66;03m# construct operator n_2 = $n_{j=L/2}$\u001b[39;00m\n\u001b[32m     32\u001b[39m n_2_static = [[\u001b[33m\"\u001b[39m\u001b[33mn\u001b[39m\u001b[33m\"\u001b[39m, [[\u001b[32m1.0\u001b[39m, N // \u001b[32m2\u001b[39m]]]]\n",
      "\u001b[36mFile \u001b[39m\u001b[32m~/GitHub/quantum-theory-of-condensed-matter/.venv/lib/python3.12/site-packages/quspin/operators/hamiltonian_core.py:351\u001b[39m, in \u001b[36mhamiltonian.__init__\u001b[39m\u001b[34m(self, static_list, dynamic_list, N, basis, shape, dtype, static_fmt, dynamic_fmt, copy, check_symm, check_herm, check_pcon, **basis_kwargs)\u001b[39m\n\u001b[32m    348\u001b[39m     \u001b[38;5;28mself\u001b[39m._basis.check_hermitian(static_opstr_list, dynamic_opstr_list)\n\u001b[32m    350\u001b[39m \u001b[38;5;28;01mif\u001b[39;00m check_symm:\n\u001b[32m--> \u001b[39m\u001b[32m351\u001b[39m     \u001b[38;5;28;43mself\u001b[39;49m\u001b[43m.\u001b[49m\u001b[43m_basis\u001b[49m\u001b[43m.\u001b[49m\u001b[43mcheck_symm\u001b[49m\u001b[43m(\u001b[49m\u001b[43mstatic_opstr_list\u001b[49m\u001b[43m,\u001b[49m\u001b[43m \u001b[49m\u001b[43mdynamic_opstr_list\u001b[49m\u001b[43m)\u001b[49m\n\u001b[32m    353\u001b[39m \u001b[38;5;28;01mif\u001b[39;00m check_pcon:\n\u001b[32m    354\u001b[39m     \u001b[38;5;28mself\u001b[39m._basis.check_pcon(static_opstr_list, dynamic_opstr_list)\n",
      "\u001b[36mFile \u001b[39m\u001b[32m~/GitHub/quantum-theory-of-condensed-matter/.venv/lib/python3.12/site-packages/quspin/basis/base.py:759\u001b[39m, in \u001b[36mbasis.check_symm\u001b[39m\u001b[34m(self, static, dynamic)\u001b[39m\n\u001b[32m    757\u001b[39m             \u001b[38;5;28;01mfor\u001b[39;00m i, op \u001b[38;5;129;01min\u001b[39;00m \u001b[38;5;28menumerate\u001b[39m(unique_missing_ops):\n\u001b[32m    758\u001b[39m                 \u001b[38;5;28mprint\u001b[39m(\u001b[33m\"\u001b[39m\u001b[38;5;132;01m{0}\u001b[39;00m\u001b[33m. \u001b[39m\u001b[38;5;132;01m{1}\u001b[39;00m\u001b[33m\"\u001b[39m.format(i + \u001b[32m1\u001b[39m, op))\n\u001b[32m--> \u001b[39m\u001b[32m759\u001b[39m         \u001b[38;5;28;01mraise\u001b[39;00m \u001b[38;5;167;01mTypeError\u001b[39;00m(\n\u001b[32m    760\u001b[39m             \u001b[33m\"\u001b[39m\u001b[33mHamiltonian does not obey \u001b[39m\u001b[38;5;132;01m{0}\u001b[39;00m\u001b[33m! To turn off check, use check_symm=False in hamiltonian.\u001b[39m\u001b[33m\"\u001b[39m.format(\n\u001b[32m    761\u001b[39m                 symm\n\u001b[32m    762\u001b[39m             )\n\u001b[32m    763\u001b[39m         )\n\u001b[32m    764\u001b[39m \u001b[38;5;28;01melse\u001b[39;00m:\n\u001b[32m    765\u001b[39m     \u001b[38;5;28;01mcontinue\u001b[39;00m\n",
      "\u001b[31mTypeError\u001b[39m: Hamiltonian does not obey T symm! To turn off check, use check_symm=False in hamiltonian."
     ]
    }
   ],
   "source": [
    "energy(10,2,1.)"
   ]
  },
  {
   "cell_type": "code",
   "execution_count": 27,
   "id": "6912e461",
   "metadata": {},
   "outputs": [],
   "source": [
    "def gap(N,U): \n",
    "    #\n",
    "    # N : lattice sites\n",
    "    sps = 4  # states per site\n",
    "    Np = N  # total number of bosons\n",
    "    #\n",
    "    ############   create same boson basis_1d object   #############\n",
    "    basis_1d = boson_basis_1d(N, Nb=Np, sps=sps, kblock=0, pblock=1)\n",
    "    #\n",
    "    ############   create Hamiltonians   #############\n",
    "    #\n",
    "    J = -1.0\n",
    "    # U = +1.0\n",
    "    #\n",
    "    hopping = [[+J, j, (j + 1) % N] for j in range(N)]\n",
    "    int_bb = [[0.5 * U, j, j] for j in range(N)]\n",
    "    int_b = [[-0.5 * U, j] for j in range(N)]\n",
    "    #\n",
    "    static = [[\"+-\", hopping], [\"-+\", hopping], [\"nn\", int_bb], [\"n\", int_b]]\n",
    "    dynamic = []\n",
    "    #\n",
    "    no_checks = dict(check_symm=False, check_pcon=False, check_herm=False)\n",
    "    H_1d = hamiltonian(static, [], basis=basis_1d, dtype=np.float64, **no_checks)\n",
    "\n",
    "    eigvalsh = H_1d.eigvalsh()\n",
    "\n",
    "    return eigvalsh[1]-eigvalsh[0]"
   ]
  },
  {
   "cell_type": "code",
   "execution_count": 12,
   "id": "272aeecb",
   "metadata": {},
   "outputs": [
    {
     "data": {
      "text/plain": [
       "np.float64(2.652303334292201)"
      ]
     },
     "execution_count": 12,
     "metadata": {},
     "output_type": "execute_result"
    }
   ],
   "source": [
    "gap(8,1.)"
   ]
  },
  {
   "cell_type": "code",
   "execution_count": null,
   "id": "dbd2d0ba",
   "metadata": {},
   "outputs": [],
   "source": []
  }
 ],
 "metadata": {
  "kernelspec": {
   "display_name": ".venv",
   "language": "python",
   "name": "python3"
  },
  "language_info": {
   "codemirror_mode": {
    "name": "ipython",
    "version": 3
   },
   "file_extension": ".py",
   "mimetype": "text/x-python",
   "name": "python",
   "nbconvert_exporter": "python",
   "pygments_lexer": "ipython3",
   "version": "3.12.7"
  }
 },
 "nbformat": 4,
 "nbformat_minor": 5
}
